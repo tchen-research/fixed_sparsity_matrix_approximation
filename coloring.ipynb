{
 "cells": [
  {
   "cell_type": "code",
   "execution_count": 2,
   "metadata": {
    "id": "T3NJNQQFCCg0"
   },
   "outputs": [
    {
     "name": "stderr",
     "output_type": "stream",
     "text": [
      "/home/tyler/anaconda3/lib/python3.10/site-packages/tqdm/auto.py:21: TqdmWarning: IProgress not found. Please update jupyter and ipywidgets. See https://ipywidgets.readthedocs.io/en/stable/user_install.html\n",
      "  from .autonotebook import tqdm as notebook_tqdm\n"
     ]
    }
   ],
   "source": [
    "import numpy as np\n",
    "import scipy as sp\n",
    "import matplotlib as mpl\n",
    "import matplotlib.pyplot as plt\n",
    "import sympy\n",
    "import networkx as nx\n",
    "import ssgetpy\n",
    "from IPython.display import clear_output"
   ]
  },
  {
   "cell_type": "code",
   "execution_count": 3,
   "metadata": {},
   "outputs": [],
   "source": [
    "plt.rc('text', usetex=True)\n",
    "plt.rc('font', family='serif')"
   ]
  },
  {
   "cell_type": "code",
   "execution_count": 4,
   "metadata": {},
   "outputs": [],
   "source": [
    "colors = plt.cm.magma(np.linspace(.3,1,8))"
   ]
  },
  {
   "cell_type": "code",
   "execution_count": 5,
   "metadata": {},
   "outputs": [],
   "source": [
    "def get_coloring(S):\n",
    "    \"get coloring correspoding to sparsity pattern\"\n",
    "    \n",
    "    n,d = S.shape\n",
    "    G = nx.from_numpy_array(S.T@S)\n",
    "    nx_color = nx.greedy_color(G)\n",
    "    colors = np.array([nx_color[i] for i in range(d)])\n",
    "\n",
    "    return colors"
   ]
  },
  {
   "cell_type": "code",
   "execution_count": 6,
   "metadata": {},
   "outputs": [],
   "source": [
    "def hard_sparsity(k):\n",
    "\n",
    "    S = np.zeros((k**2,k**2))\n",
    "    for p in range(k):\n",
    "        for q in range(k):\n",
    "            for i in range(k):\n",
    "                for j in range(k):\n",
    "                    if i==q or j==p:\n",
    "                        S[p*k+i,q*k+j] = 1\n",
    "    return S"
   ]
  },
  {
   "cell_type": "code",
   "execution_count": 7,
   "metadata": {},
   "outputs": [],
   "source": [
    "results = ssgetpy.fetch(colbounds = (500, 1000),limit=250)\n",
    "matrices = [result.name for result in results]\n",
    "for result in results:\n",
    "    result.download(format='MM',destpath='matrices',extract=True);"
   ]
  },
  {
   "cell_type": "code",
   "execution_count": 8,
   "metadata": {},
   "outputs": [
    {
     "name": "stdout",
     "output_type": "stream",
     "text": [
      "222\n"
     ]
    }
   ],
   "source": [
    "colorings = {}\n",
    "sparsities = {}\n",
    "\n",
    "for i,matrix in enumerate(matrices):\n",
    "    print(i)\n",
    "    clear_output(wait=True)\n",
    "    \n",
    "    A = sp.io.mmread(f'matrices/{matrix}/{matrix}.mtx').astype('bool')\n",
    "    n,d = A.shape\n",
    "    colorings[matrix] = get_coloring(A)\n",
    "    sparsities[matrix] = np.max(A@np.ones(d))"
   ]
  },
  {
   "cell_type": "code",
   "execution_count": 9,
   "metadata": {},
   "outputs": [],
   "source": [
    "ks = np.geomspace(1,100,10,dtype='int')\n",
    "ss = [np.max(np.sum(hard_sparsity(k),axis=1)) for k in ks]"
   ]
  },
  {
   "cell_type": "code",
   "execution_count": 10,
   "metadata": {},
   "outputs": [
    {
     "data": {
      "image/png": "[encoded data removed]",
      "text/plain": [
       "<Figure size 700x350 with 1 Axes>"
      ]
     },
     "metadata": {},
     "output_type": "display_data"
    }
   ],
   "source": [
    "fig,axs = plt.subplots(1,1,figsize=(7,3.5))\n",
    "\n",
    "plt.plot(ss,ks**2,ls='None',marker='.',color='k')\n",
    "plt.plot([1,1e3],[1,1e3],color='k',ls=':')\n",
    "\n",
    "for matrix in matrices:\n",
    "    plt.plot(sparsities[matrix],max(colorings[matrix])+1,marker='.',color='k')\n",
    "\n",
    "plt.yscale('log')\n",
    "plt.xscale('log')\n",
    "\n",
    "plt.xlabel('matrix sparsity $s$')\n",
    "plt.ylabel('greedy coloring number $k$')\n",
    "\n",
    "plt.savefig('imgs/coloring_count.pdf')"
   ]
  },
  {
   "cell_type": "code",
   "execution_count": null,
   "metadata": {},
   "outputs": [],
   "source": []
  }
 ],
 "metadata": {
  "colab": {
   "provenance": []
  },
  "kernelspec": {
   "display_name": "Python 3 (ipykernel)",
   "language": "python",
   "name": "python3"
  },
  "language_info": {
   "codemirror_mode": {
    "name": "ipython",
    "version": 3
   },
   "file_extension": ".py",
   "mimetype": "text/x-python",
   "name": "python",
   "nbconvert_exporter": "python",
   "pygments_lexer": "ipython3",
   "version": "3.10.9"
  }
 },
 "nbformat": 4,
 "nbformat_minor": 4
}
