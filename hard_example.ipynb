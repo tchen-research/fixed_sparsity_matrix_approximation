{
 "cells": [
  {
   "cell_type": "code",
   "execution_count": 1,
   "metadata": {
    "id": "T3NJNQQFCCg0"
   },
   "outputs": [],
   "source": [
    "import numpy as np\n",
    "import scipy as sp\n",
    "import matplotlib as mpl\n",
    "import matplotlib.pyplot as plt\n",
    "import sympy\n",
    "import networkx as nx\n",
    "from IPython.display import clear_output"
   ]
  },
  {
   "cell_type": "code",
   "execution_count": 2,
   "metadata": {},
   "outputs": [],
   "source": [
    "plt.rc('text', usetex=True)\n",
    "plt.rc('font', family='serif')"
   ]
  },
  {
   "cell_type": "code",
   "execution_count": 3,
   "metadata": {},
   "outputs": [],
   "source": [
    "colors = plt.cm.magma(np.linspace(.3,1,8))"
   ]
  },
  {
   "cell_type": "code",
   "execution_count": null,
   "metadata": {},
   "outputs": [],
   "source": "def hard_sparsity(k):\n    \"\"\"\n    Generate a k×k block sparsity pattern with k² chromatic number.\n    \n    This function creates a pathological sparsity pattern that demonstrates the worst-case\n    behavior for graph coloring algorithms. Despite having sparsity s = 2k-1, the chromatic\n    number is k², making coloring-based algorithms inefficient.\n    \n    Parameters\n    ----------\n    k : int\n        Block size parameter. Output matrix will be k²×k²\n    \n    Returns\n    -------\n    S : ndarray of shape (k², k²)\n        Binary sparsity pattern matrix\n    \n    Structure\n    ---------\n    The matrix is structured as k×k blocks of k×k submatrices:\n    - For entry (p*k+i, q*k+j):\n        S[p*k+i, q*k+j] = 1 if i==q or j==p\n        S[p*k+i, q*k+j] = 0 otherwise\n    \n    This creates a pattern where:\n    - Each row has exactly 2k-1 nonzeros (at most)\n    - Each column conflicts with k² other columns\n    - Chromatic number χ(G) = k²\n    \n    Example (k=2)\n    -------------\n    For k=2, output is 4×4 matrix:\n    [1 1 1 0]\n    [1 1 0 1]\n    [1 0 1 1]\n    [0 1 1 1]\n    \n    This has sparsity s=3 but chromatic number k²=4\n    \n    Notes\n    -----\n    - This is a \"hard\" example where coloring provides no advantage over sparse recovery\n    - Row sparsity: s ≤ 2k-1\n    - Chromatic number: χ = k²\n    - Demonstrates that k can be Ω(s²) in worst case\n    \"\"\"\n\n    # Initialize k²×k² zero matrix\n    S = np.zeros((k**2, k**2))\n    \n    # Fill in sparsity pattern using block structure\n    for p in range(k):          # Row block index\n        for q in range(k):      # Column block index\n            for i in range(k):  # Row within block\n                for j in range(k):  # Column within block\n                    # Entry is nonzero if i==q (vertical strip) or j==p (horizontal strip)\n                    if i == q or j == p:\n                        S[p*k + i, q*k + j] = 1\n    \n    return S"
  },
  {
   "cell_type": "code",
   "execution_count": 5,
   "metadata": {
    "id": "_3WAde1MCFvW"
   },
   "outputs": [],
   "source": [
    "k = 6\n",
    "S = hard_sparsity(k)\n"
   ]
  },
  {
   "cell_type": "code",
   "execution_count": 6,
   "metadata": {
    "colab": {
     "base_uri": "https://localhost:8080/",
     "height": 345
    },
    "id": "7p8EHTFECT-Y",
    "outputId": "707252d3-410e-41d4-f5ab-04c29fa1ced6"
   },
   "outputs": [
    {
     "data": {
      "image/png": "[encoded data removed]",
      "text/plain": [
       "<Figure size 400x400 with 2 Axes>"
      ]
     },
     "metadata": {},
     "output_type": "display_data"
    }
   ],
   "source": [
    "fig,axs = plt.subplots(2,1,figsize=(4,4),height_ratios=[1,36])\n",
    "plt.subplots_adjust(hspace=.03)\n",
    "\n",
    "c = np.zeros((1,k**2))\n",
    "c[:,:k**2//2] = 1\n",
    "axs[0].axis('off')\n",
    "\n",
    "axs[1].imshow(S,cmap='binary')\n",
    "axs[1].set_xticks([])\n",
    "axs[1].set_yticks([])\n",
    "\n",
    "plt.savefig('imgs/hard_coloring_sparsity.pdf')"
   ]
  },
  {
   "cell_type": "code",
   "execution_count": 7,
   "metadata": {
    "colab": {
     "base_uri": "https://localhost:8080/",
     "height": 345
    },
    "id": "-9IZUVn475Mq",
    "outputId": "c028741e-6a5f-496c-ec19-df677a5187b5"
   },
   "outputs": [
    {
     "data": {
      "image/png": "[encoded data removed]",
      "text/plain": [
       "<Figure size 400x400 with 2 Axes>"
      ]
     },
     "metadata": {},
     "output_type": "display_data"
    }
   ],
   "source": [
    "n = 36\n",
    "\n",
    "S = np.zeros((n,n))\n",
    "\n",
    "S += np.eye(n)\n",
    "\n",
    "σ = .3\n",
    "np.random.seed(0)\n",
    "S[:n//2,n//2:] += σ*np.abs(np.random.randn(n//2,n//2))\n",
    "S[n//2:,:n//2] += σ*np.abs(np.random.randn(n//2,n//2))\n",
    "\n",
    "fig,axs = plt.subplots(2,1,figsize=(4,4),height_ratios=[1,n])\n",
    "plt.subplots_adjust(hspace=.03)\n",
    "\n",
    "c = np.zeros((1,n))\n",
    "c[:,:n//2] = 1\n",
    "axs[0].imshow(c,cmap='inferno',vmin=0,vmax=2)\n",
    "axs[0].axis('off')\n",
    "\n",
    "axs[1].imshow(S,cmap='binary')\n",
    "axs[1].set_yticks([])\n",
    "axs[1].set_xticks([])\n",
    "\n",
    "plt.savefig('imgs/good_coloring_sparsity.pdf')"
   ]
  },
  {
   "cell_type": "code",
   "execution_count": 8,
   "metadata": {
    "colab": {
     "base_uri": "https://localhost:8080/",
     "height": 345
    },
    "id": "Pgb1fHx180Bk",
    "outputId": "fe2cd372-f537-43bb-c95e-6080d9a9a89e"
   },
   "outputs": [
    {
     "data": {
      "image/png": "[encoded data removed]",
      "text/plain": [
       "<Figure size 400x400 with 2 Axes>"
      ]
     },
     "metadata": {},
     "output_type": "display_data"
    }
   ],
   "source": [
    "n = 36\n",
    "\n",
    "S = np.zeros((n,n))\n",
    "\n",
    "σ = .3\n",
    "np.random.seed(0)\n",
    "\n",
    "d = 2\n",
    "for i in range(d):\n",
    "    S[i*n//d:(i+1)*n//d,i*n//d:(i+1)*n//d] += σ*np.abs(np.random.randn(n//d,n//d))\n",
    "# S = σ*np.abs(np.random.randn(n,n))\n",
    "\n",
    "S -= np.diag(np.diag(S))\n",
    "S += np.eye(n)\n",
    "\n",
    "\n",
    "fig,axs = plt.subplots(2,1,figsize=(4,4),height_ratios=[1,n])\n",
    "plt.subplots_adjust(hspace=.03)\n",
    "\n",
    "c = np.zeros((1,n))\n",
    "c[:,:n//2] = 1\n",
    "axs[0].imshow(c,cmap='inferno',vmin=0,vmax=2)\n",
    "axs[0].axis('off')\n",
    "\n",
    "axs[1].imshow(S,cmap='binary')\n",
    "axs[1].set_yticks([])\n",
    "axs[1].set_xticks([])\n",
    "\n",
    "plt.savefig('imgs/hard_coloring_sparsity1.pdf')"
   ]
  }
 ],
 "metadata": {
  "colab": {
   "provenance": []
  },
  "kernelspec": {
   "display_name": "Python 3 (ipykernel)",
   "language": "python",
   "name": "python3"
  },
  "language_info": {
   "codemirror_mode": {
    "name": "ipython",
    "version": 3
   },
   "file_extension": ".py",
   "mimetype": "text/x-python",
   "name": "python",
   "nbconvert_exporter": "python",
   "pygments_lexer": "ipython3",
   "version": "3.10.9"
  }
 },
 "nbformat": 4,
 "nbformat_minor": 4
}