{
 "cells": [
  {
   "cell_type": "code",
   "execution_count": null,
   "metadata": {
    "id": "t-hiN27ezXLi"
   },
   "outputs": [],
   "source": [
    "import numpy as np\n",
    "import scipy as sp\n",
    "import matplotlib as mpl\n",
    "import matplotlib.pyplot as plt\n",
    "import sympy\n",
    "from IPython.display import clear_output"
   ]
  },
  {
   "cell_type": "code",
   "execution_count": null,
   "metadata": {},
   "outputs": [],
   "source": [
    "plt.rc('text', usetex=True)\n",
    "plt.rc('font', family='serif')"
   ]
  },
  {
   "cell_type": "code",
   "execution_count": null,
   "metadata": {},
   "outputs": [],
   "source": [
    "colors = plt.cm.magma(np.linspace(.3,1,8))"
   ]
  },
  {
   "cell_type": "code",
   "execution_count": null,
   "metadata": {
    "id": "B9WfW26EzaFs"
   },
   "outputs": [],
   "source": [
    "def sparse_recovery(A,S,m):\n",
    "    \"\"\"\n",
    "    sparse recovery algorithm from [ACHKMM24]\n",
    "    \"\"\"\n",
    "    \n",
    "    n,d = A.shape\n",
    "    G = np.random.randn(d,m)\n",
    "    Z = A@G\n",
    "\n",
    "    A_ = np.zeros((n,d))\n",
    "\n",
    "    for i in range(n):\n",
    "        si = np.where(S[i])[0]\n",
    "        A_[i,si] = np.linalg.lstsq(G[si].T,Z[i],rcond=None)[0]\n",
    "\n",
    "    return A_"
   ]
  },
  {
   "cell_type": "markdown",
   "metadata": {
    "id": "OGwJ2wZriCAH"
   },
   "source": [
    "# Model Problem"
   ]
  },
  {
   "cell_type": "code",
   "execution_count": null,
   "metadata": {
    "id": "MC7RkhGefMo9"
   },
   "outputs": [],
   "source": [
    "n = 1000\n",
    "B = np.diag(4*np.ones(n)) + np.diag(-np.ones(n-1),1) + np.diag(-np.ones(n-1),-1)\n",
    "A = np.linalg.inv(B)\n",
    "A /= np.linalg.norm(A)"
   ]
  },
  {
   "cell_type": "code",
   "execution_count": null,
   "metadata": {
    "id": "i7Lt3WGjgUPQ"
   },
   "outputs": [],
   "source": [
    "bs = [0,1,2,3,4,5]\n",
    "ms = np.geomspace(1,1e3+1,20,dtype=int)\n",
    "n_trials = 20\n",
    "\n",
    "\n",
    "err_all = {}\n",
    "err_opt_all = {}\n",
    "for b in bs:\n",
    "\n",
    "    err = np.full((len(ms),n_trials),np.nan)\n",
    "\n",
    "    s = 2*b+1\n",
    "    S = np.eye(n,dtype=bool)\n",
    "    for i in range(1,b+1):\n",
    "        S += np.diag(np.ones(n-i,dtype=bool),i) + np.diag(np.ones(n-i,dtype=bool),-i)\n",
    "\n",
    "    for i,m in enumerate(ms):\n",
    "        print(f\"{b},{m}\")\n",
    "        clear_output(wait=True)\n",
    "        \n",
    "        if m<s+2:\n",
    "            continue\n",
    "        for j in range(n_trials):\n",
    "            A_ = sparse_recovery(A,S,m)\n",
    "            err[i,j] = np.linalg.norm(A_ - A*S)\n",
    "\n",
    "    err_all[b] = err\n",
    "    err_opt_all[b] = np.linalg.norm(A-A*S)"
   ]
  },
  {
   "cell_type": "code",
   "execution_count": null,
   "metadata": {},
   "outputs": [],
   "source": [
    "#np.save('model.npy',[err_all,err_opt_all],allow_pickle=True)\n",
    "[err_all,err_opt_all] = np.load('model.npy',allow_pickle=True)"
   ]
  },
  {
   "cell_type": "code",
   "execution_count": null,
   "metadata": {
    "colab": {
     "base_uri": "https://localhost:8080/",
     "height": 615
    },
    "id": "7fHUVpnqgUqy",
    "outputId": "dc21be7d-8565-4c79-e2f6-98971dafe3c4"
   },
   "outputs": [],
   "source": [
    "fig,axs = plt.subplots(1,2,figsize=(10,3.5))\n",
    "plt.subplots_adjust(wspace=.3)\n",
    "\n",
    "for i,b in enumerate(bs):\n",
    "    c = colors[i]\n",
    "    \n",
    "    s = 2*b+1\n",
    "    err = err_all[b]\n",
    "    err_opt = err_opt_all[b]\n",
    "\n",
    "    mean = np.mean(err**2,axis=1)**.5\n",
    "\n",
    "    σ = 0.1\n",
    "    minq = np.quantile(err,σ,axis=1)\n",
    "    maxq = np.quantile(err,1-σ,axis=1)\n",
    "\n",
    "    axs[0].plot(np.arange(np.max(ms)),err_opt+np.sqrt(s/(np.arange(np.max(ms))-s-1))*err_opt,color='k',ls=':')\n",
    "    axs[0].plot(ms,err_opt+mean,marker='o',ms=4,color=c,ls='None',label=f'$s={s}$')\n",
    "    axs[0].fill_between(ms,err_opt+minq,err_opt+maxq,alpha=.2,color=c);\n",
    "\n",
    "    axs[0].set_yscale('log')\n",
    "    axs[0].set_xscale('log')\n",
    "\n",
    "\n",
    "    axs[1].plot(np.arange(np.max(ms)),np.sqrt(s/(np.arange(np.max(ms))-s-1))*err_opt,color='k',ls=':')\n",
    "    axs[1].plot(ms,mean,marker='o',ms=4,color=c,ls='None',label=f'$s={s}$')\n",
    "    axs[1].fill_between(ms,minq,maxq,alpha=.2,color=c);\n",
    "\n",
    "    axs[1].set_yscale('log')\n",
    "    axs[1].set_xscale('log')\n",
    "\n",
    "\n",
    "axs[0].set_ylabel('approximation error: $\\|\\mathbf{A} - \\widetilde{\\mathbf{A}}\\|_{\\mathsf{F}}$')\n",
    "axs[1].set_ylabel('sparse recovery error: $\\|\\mathbf{S}\\circ \\mathbf{A} - \\widetilde{\\mathbf{A}}\\|_{\\mathsf{F}}$')\n",
    "\n",
    "axs[0].set_xlabel('number of matvecs $m$')\n",
    "axs[1].set_xlabel('number of matvecs $m$')\n",
    "\n",
    "\n",
    "plt.legend()\n",
    "\n",
    "plt.savefig('imgs/inverse_decay.pdf')"
   ]
  },
  {
   "cell_type": "markdown",
   "metadata": {},
   "source": [
    "# Trefethen primes"
   ]
  },
  {
   "cell_type": "code",
   "execution_count": null,
   "metadata": {
    "id": "8hyKb-r39eOY"
   },
   "outputs": [],
   "source": [
    "n = 1000\n",
    "\n",
    "b = 1\n",
    "\n",
    "S = np.eye(n,dtype=bool)\n",
    "for j in range(1,int(np.log2(n))):\n",
    "\n",
    "    for i in range(2**j-b,2**j+b+1):\n",
    "        S += np.diag(np.ones(n-i,dtype=bool),i) + np.diag(np.ones(n-i,dtype=bool),-i)\n",
    "\n",
    "s = np.max(np.sum(S,axis=0))"
   ]
  },
  {
   "cell_type": "code",
   "execution_count": null,
   "metadata": {
    "id": "EYzDGSyr9dkz"
   },
   "outputs": [],
   "source": [
    "B = np.diag(list(sympy.primerange(2, sympy.prime(n) + 1)))\n",
    "for j in range(1,int(np.log2(n))+1):\n",
    "    i = 2**j\n",
    "    B += np.diag(np.ones(n-i,dtype=bool),i) + np.diag(np.ones(n-i,dtype=bool),-i)\n",
    "\n",
    "\n",
    "A = np.linalg.inv(B)\n",
    "\n",
    "A /= np.linalg.norm(A)"
   ]
  },
  {
   "cell_type": "code",
   "execution_count": null,
   "metadata": {
    "colab": {
     "base_uri": "https://localhost:8080/",
     "height": 1000
    },
    "id": "7hFvS1UuBkSy",
    "outputId": "d5926f59-00ee-49c1-e05a-1f69f0609d0e"
   },
   "outputs": [],
   "source": [
    "fig,axs = plt.subplots(2,1,figsize=(4,4),height_ratios=[1,36])\n",
    "plt.subplots_adjust(hspace=.03)\n",
    "\n",
    "axs[0].axis('off')\n",
    "\n",
    "axs[1].imshow(np.abs(B),cmap='binary',norm=mpl.colors.LogNorm(vmin=1e-3,vmax=1e3))\n",
    "axs[1].set_xticks([])\n",
    "axs[1].set_yticks([])\n",
    "\n",
    "plt.savefig('imgs/tref_mat_orig.pdf')\n",
    "\n",
    "b=5\n",
    "S = np.zeros((n,n),dtype=bool)\n",
    "for j in range(0,int(np.log2(n))+1):\n",
    "    for i in range(max(0,2**j-b),min(2**j+b,n)+1):\n",
    "        S += np.diag(np.ones(n-i,dtype=bool),i) + np.diag(np.ones(n-i,dtype=bool),-i)\n",
    "\n",
    "\n",
    "fig,axs = plt.subplots(2,1,figsize=(4,4),height_ratios=[1,36])\n",
    "plt.subplots_adjust(hspace=.03)\n",
    "\n",
    "axs[0].axis('off')\n",
    "\n",
    "axs[1].imshow(np.abs(A),cmap='binary',norm=mpl.colors.LogNorm())\n",
    "axs[1].set_xticks([])\n",
    "axs[1].set_yticks([])\n",
    "\n",
    "plt.savefig('imgs/tref_mat.pdf')\n",
    "\n",
    "fig,axs = plt.subplots(2,1,figsize=(4,4),height_ratios=[1,36])\n",
    "plt.subplots_adjust(hspace=.03)\n",
    "\n",
    "axs[0].axis('off')\n",
    "\n",
    "axs[1].imshow(S,cmap='binary')\n",
    "axs[1].set_xticks([])\n",
    "axs[1].set_yticks([])\n",
    "\n",
    "plt.savefig('imgs/tref_sparsity.pdf')"
   ]
  },
  {
   "cell_type": "code",
   "execution_count": null,
   "metadata": {
    "colab": {
     "base_uri": "https://localhost:8080/"
    },
    "id": "euOOoLZ2hvt_",
    "outputId": "3bb131fa-ce99-4a6c-acb4-3c2be52d8cc2"
   },
   "outputs": [],
   "source": [
    "bs = [0,1,2,5,10]\n",
    "ms = np.geomspace(1e1,5e2+1,20,dtype=int)\n",
    "n_trials = 100\n",
    "\n",
    "\n",
    "s_all = {}\n",
    "err_all = {}\n",
    "cond_all = {}\n",
    "err_opt_all = {}\n",
    "for b in bs:\n",
    "\n",
    "    err = np.full((len(ms),n_trials),np.nan)\n",
    "    cond = np.full((len(ms),n_trials),np.nan)\n",
    "\n",
    "    S = np.zeros((n,n),dtype=bool)\n",
    "    for j in range(0,int(np.log2(n))+1):\n",
    "        for i in range(max(0,2**j-b),min(2**j+b,n)+1):\n",
    "            S += np.diag(np.ones(n-i,dtype=bool),i) + np.diag(np.ones(n-i,dtype=bool),-i)\n",
    "\n",
    "    s = np.max(np.sum(S,axis=0))\n",
    "    s_all[b] = s\n",
    "    \n",
    "    for i,m in enumerate(ms):\n",
    "\n",
    "        print(f\"{b},{m}\")\n",
    "        clear_output(wait=True)\n",
    "\n",
    "        if m<s+2: \n",
    "            continue\n",
    "        for j in range(n_trials):\n",
    "            A_ = sparse_recovery(A,S,m)\n",
    "            err[i,j] = np.linalg.norm(A_ - A*S)\n",
    "\n",
    "    err_all[b] = err\n",
    "    err_opt_all[b] = np.linalg.norm(A-A*S)"
   ]
  },
  {
   "cell_type": "code",
   "execution_count": null,
   "metadata": {},
   "outputs": [],
   "source": [
    "#np.save('trefethen_primes.npy',[err_all,err_opt_all,s_all],allow_pickle=True)\n",
    "[err_all,err_opt_all,s_all] = np.load('trefethen_primes.npy',allow_pickle=True)"
   ]
  },
  {
   "cell_type": "code",
   "execution_count": null,
   "metadata": {},
   "outputs": [],
   "source": [
    "fig,axs = plt.subplots(1,2,figsize=(10,3.5))\n",
    "plt.subplots_adjust(wspace=.3)\n",
    "\n",
    "for i,b in enumerate(bs):\n",
    "    c = colors[i]\n",
    "    \n",
    "    s = s_all[b]\n",
    "    err = err_all[b]\n",
    "    err_opt = err_opt_all[b]\n",
    "\n",
    "    mean = np.mean(err**2,axis=1)**.5\n",
    "\n",
    "    σ = 0.1\n",
    "    minq = np.quantile(err,σ,axis=1)\n",
    "    maxq = np.quantile(err,1-σ,axis=1)\n",
    "\n",
    "    axs[0].plot(np.arange(np.max(ms)),err_opt+np.sqrt(s/(np.arange(np.max(ms))-s-1))*err_opt,color='k',ls=':');\n",
    "    axs[0].plot(ms,err_opt+mean,marker='o',ms=4,color=c,ls='None',label=f'$s={s}$')\n",
    "    axs[0].fill_between(ms,err_opt+minq,err_opt+maxq,alpha=.2,color=c);\n",
    "\n",
    "    axs[0].set_yscale('log')\n",
    "    axs[0].set_xscale('log')\n",
    "\n",
    "\n",
    "    axs[1].plot(np.arange(np.max(ms)),np.sqrt(s/(np.arange(np.max(ms))-s-1))*err_opt,color='k',ls=':');\n",
    "    axs[1].plot(ms,mean,marker='o',ms=4,color=c,ls='None',label=f'$s={s}$')\n",
    "    axs[1].fill_between(ms,minq,maxq,alpha=.2,color=c);\n",
    "\n",
    "    axs[1].set_yscale('log')\n",
    "    axs[1].set_xscale('log')\n",
    "\n",
    "\n",
    "axs[0].set_ylabel('approximation error: $\\|\\mathbf{A} - \\widetilde{\\mathbf{A}}\\|_{\\mathsf{F}}$')\n",
    "axs[1].set_ylabel('sparse recovery error: $\\|\\mathbf{S}\\circ \\mathbf{A} - \\widetilde{\\mathbf{A}}\\|_{\\mathsf{F}}$')\n",
    "\n",
    "axs[0].set_xlabel('number of matvecs $m$')\n",
    "axs[1].set_xlabel('number of matvecs $m$')\n",
    "\n",
    "\n",
    "plt.legend()\n",
    "\n",
    "plt.savefig('imgs/tref_inv.pdf')"
   ]
  },
  {
   "cell_type": "code",
   "execution_count": null,
   "metadata": {},
   "outputs": [],
   "source": []
  }
 ],
 "metadata": {
  "colab": {
   "provenance": []
  },
  "kernelspec": {
   "display_name": "Python 3 (ipykernel)",
   "language": "python",
   "name": "python3"
  },
  "language_info": {
   "codemirror_mode": {
    "name": "ipython",
    "version": 3
   },
   "file_extension": ".py",
   "mimetype": "text/x-python",
   "name": "python",
   "nbconvert_exporter": "python",
   "pygments_lexer": "ipython3",
   "version": "3.10.9"
  }
 },
 "nbformat": 4,
 "nbformat_minor": 4
}
